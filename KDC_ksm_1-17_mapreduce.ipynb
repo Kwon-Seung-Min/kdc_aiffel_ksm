{
 "cells": [
  {
   "cell_type": "markdown",
   "id": "e659e343",
   "metadata": {},
   "source": [
    "# 😻 데이터 엔지니어를 위한 파이썬 첫걸음 😻\n",
    "## 17장. 함수형 프로그래밍과 맵리듀스"
   ]
  },
  {
   "cell_type": "markdown",
   "id": "52da70dd",
   "metadata": {},
   "source": [
    "***"
   ]
  },
  {
   "cell_type": "markdown",
   "id": "22e59049",
   "metadata": {},
   "source": [
    "## 파이썬에서 함수가 할 수 있는 기능"
   ]
  },
  {
   "cell_type": "markdown",
   "id": "df2bf0d1",
   "metadata": {},
   "source": [
    "- 어떤 함수는 다른 함수의 인자로 전달될 수 있다. (인자로 전달이 가능하다는 것과 같은 의미)\n",
    "- 함수는 변수에 할당될 수 있다.\n",
    "- 함수는 다른 함수의 결과로서 반환될 수 있다."
   ]
  },
  {
   "cell_type": "markdown",
   "id": "f6ed1b68",
   "metadata": {},
   "source": [
    "### 1) 어떤 함수는 다른 함수의 인자로 전달될 수 있다.\n",
    "\n",
    "- 에러 메시지를 출력하는 함수 error_messages()와 단어의 첫 글자만 대문자로 만드는 함수 to_upper()를 아래와 같이 정의한다."
   ]
  },
  {
   "cell_type": "code",
   "execution_count": 1,
   "id": "752e4c68",
   "metadata": {},
   "outputs": [
    {
     "name": "stdout",
     "output_type": "stream",
     "text": [
      "두 함수를 정의하였다.\n"
     ]
    }
   ],
   "source": [
    "# 에러 메세지를 출력하는 함수\n",
    "def error_message(format_func, msg):\n",
    "    print(format_func(msg))\n",
    "\n",
    "# 단어의 첫 글자만 대문자로 만드는 함수 : capitalize() 활용\n",
    "def to_upper(msg):\n",
    "   return \" \".join(word.capitalize() for word in msg.split())\n",
    "\n",
    "print(\"두 함수를 정의하였다.\")"
   ]
  },
  {
   "cell_type": "markdown",
   "id": "df66f717",
   "metadata": {},
   "source": [
    "- 아래 코드와 같이, error_message() 함수의 인자로 to_upper() 함수를 전달할 수 있다.\n",
    "- 위에 함수를 정의한 코드에서 format_func에 해당하는 함수가 to_upper()인 것이다."
   ]
  },
  {
   "cell_type": "code",
   "execution_count": 2,
   "id": "1e87f679",
   "metadata": {},
   "outputs": [
    {
     "name": "stdout",
     "output_type": "stream",
     "text": [
      "You Have Limited Access\n"
     ]
    }
   ],
   "source": [
    "msg = \"you have limited access\"\n",
    "error_message(to_upper, msg)"
   ]
  },
  {
   "cell_type": "markdown",
   "id": "c44f42cd",
   "metadata": {},
   "source": [
    "- 비슷한 방식으로 이번에는 모든 글자를 대문자로 만들어주는 함수를 정의하고 결과를 보자.\n",
    "- 문자열 함수 upper()를 써서 모든 글자를 대문자로 만들 수 있음을 응용하여 아래와 같이 함수를 만들 수 있다."
   ]
  },
  {
   "cell_type": "code",
   "execution_count": 3,
   "id": "ba579400",
   "metadata": {},
   "outputs": [
    {
     "name": "stdout",
     "output_type": "stream",
     "text": [
      "YOU HAVE LIMITED ACCESS\n"
     ]
    }
   ],
   "source": [
    "# 모든 글자를 대문자로 만드는 함수\n",
    "def all_upper(msg):\n",
    "   return \" \".join(word.upper() for word in msg.split())\n",
    "\n",
    "# 결과\n",
    "error_message(all_upper, msg)"
   ]
  },
  {
   "cell_type": "markdown",
   "id": "068fc735",
   "metadata": {},
   "source": [
    "### 2) 함수는 변수에 할당될 수 있다.\n",
    "\n",
    "- 파이썬이 함수를 변수로 할당할 수 있는 대표적인 함수가 콜백(callback) 함수이다.\n",
    "- 호출될 함수를 다른 함수의 매개변수로 전달하고, 특정 이벤트가 발생했을 때 매개변수로 전달된 함수가 호출된다.\n",
    "- 이것이 가능한 이유는 파이썬에서 함수가 1급 시민으로 칭해지기 때문이다.\n",
    "- 파이썬은 이러한 점을 들어 함수형 프로그래밍이 가능하다."
   ]
  },
  {
   "cell_type": "code",
   "execution_count": 4,
   "id": "1af4c78d",
   "metadata": {},
   "outputs": [
    {
     "name": "stdout",
     "output_type": "stream",
     "text": [
      "france 함수 정의\n"
     ]
    }
   ],
   "source": [
    "# france() 함수 정의\n",
    "\n",
    "def france():\n",
    "    print('bonjour')\n",
    "\n",
    "print(\"france 함수 정의\")"
   ]
  },
  {
   "cell_type": "code",
   "execution_count": 5,
   "id": "5eddeb0b",
   "metadata": {},
   "outputs": [
    {
     "name": "stdout",
     "output_type": "stream",
     "text": [
      "<function france at 0x7f8d2069e040>\n"
     ]
    }
   ],
   "source": [
    "# 새로운 변수 hello에 france() 함수 할당하기 : 변수 hello에 함수를 할당하여, hello는 함수처럼 사용이 가능하게 된다.\n",
    "# 아래 코드를 출력하면, 이제 hello는 france 함수와 같은 역할을 한다고 볼 수 있겠네요.\n",
    "\n",
    "hello = france\n",
    "print(hello)"
   ]
  },
  {
   "cell_type": "code",
   "execution_count": 6,
   "id": "e48905c9",
   "metadata": {},
   "outputs": [
    {
     "name": "stdout",
     "output_type": "stream",
     "text": [
      "bonjour\n"
     ]
    }
   ],
   "source": [
    "hello()"
   ]
  },
  {
   "cell_type": "markdown",
   "id": "ed8d2906",
   "metadata": {},
   "source": [
    "- 아래와 같이 hello의 자료형을 확인해 보면 function임을 알 수 있다. 이는 함수가 1급 시민임을 나타낸다."
   ]
  },
  {
   "cell_type": "code",
   "execution_count": 7,
   "id": "9f61f09b",
   "metadata": {},
   "outputs": [
    {
     "name": "stdout",
     "output_type": "stream",
     "text": [
      "<class 'function'>\n"
     ]
    }
   ],
   "source": [
    "print(type(hello))"
   ]
  },
  {
   "cell_type": "markdown",
   "id": "52087fb0",
   "metadata": {},
   "source": [
    "### 3) 함수는 다른 함수의 결과로서 반환될 수 있다.\n",
    "\n",
    "- 함수의 return 값으로 함수를 사용할 수 있다는 특징이다.\n",
    "- func1(x)는 아래와 같이 x의 제곱을 취한 값을 return한다.\n",
    "- func2()도 역시 함수이다. 여기서 다른 점은 func1이라는 함수를 return 값으로 사용했다는 것이다."
   ]
  },
  {
   "cell_type": "code",
   "execution_count": 8,
   "id": "69857ac2",
   "metadata": {},
   "outputs": [
    {
     "name": "stdout",
     "output_type": "stream",
     "text": [
      "두 개의 함수를 정의하였다.\n"
     ]
    }
   ],
   "source": [
    "def func1(x):\n",
    "    return x**2\n",
    "\n",
    "def func2():\n",
    "    return func1\n",
    "\n",
    "print(\"두 개의 함수를 정의하였다.\")"
   ]
  },
  {
   "cell_type": "markdown",
   "id": "4dd86a2a",
   "metadata": {},
   "source": [
    "- 아래 코드의 결과는 같다.\n",
    "- func2()는 func1을 결과값으로 반환하므로, 결국 두 결과는 서로 같다."
   ]
  },
  {
   "cell_type": "code",
   "execution_count": 9,
   "id": "8e914232",
   "metadata": {},
   "outputs": [
    {
     "name": "stdout",
     "output_type": "stream",
     "text": [
      "9\n",
      "9\n"
     ]
    }
   ],
   "source": [
    "print(func1(3))\n",
    "print(func2()(3))"
   ]
  },
  {
   "cell_type": "markdown",
   "id": "6fdb6dd0",
   "metadata": {},
   "source": [
    "이렇듯 파이썬에서 모든 것은 객체라고 할 수 있는데, 그 중에서 메인이 되는 것이 바로 함수이다.\n",
    "\n",
    "**함수형 프로그래밍은 모든 것을 객체로 표현하게끔 하는 프로그래밍 방식이라고 할 수 있다.**\n",
    "\n",
    "파이썬처럼 함수가 1급 시민인 다른 프로그래밍 언어로는 JavaScript, Scala, Go 등이 있다.\n",
    "\n",
    "하지만 Java, C 등은 그렇지 않다."
   ]
  },
  {
   "cell_type": "markdown",
   "id": "b2265577",
   "metadata": {},
   "source": [
    "## 함수형 프로그래밍의 특징\n",
    "\n",
    "- 변경가능한 상태(mutable)를 불변의 상태(Immutable)로 만들어 오류를 없앰\n",
    "- 모든 것은 객체임\n",
    "- 코드는 간결하고 가독성을 높게 하여 구현할 로직에 집중하도록 함\n",
    "- 보다 효율적인 동시성 작업이 가능함"
   ]
  },
  {
   "cell_type": "markdown",
   "id": "56949bc3",
   "metadata": {},
   "source": [
    "## 데이터 컬렉션"
   ]
  },
  {
   "cell_type": "code",
   "execution_count": 5,
   "id": "ea594138",
   "metadata": {},
   "outputs": [],
   "source": [
    "# import collections"
   ]
  },
  {
   "cell_type": "markdown",
   "id": "92949f09",
   "metadata": {},
   "source": [
    "- 파이썬의 자료구조 중 List, Tuple, Dictionary, Set와 같은 형태의 자료형을 컬렉션(Collection) 혹은 컨테이너(Container)라고 부른다.\n",
    "- 파이썬은 collections 컬렉션 모듈을 통해서 위에 언급된 네 가지 자료형 외 데이터 컬렉션 타입을 제공한다.\n",
    "- deque, namedtuple(), defaultdict가 자주 사용된다고 한다. (https://docs.python.org/3.8/library/collections.html)\n",
    "- '빅데이터'라는 대용량의 자료를 표현할 때 이러한 타입으로 저장하는 경우가 매우 많다고 한다."
   ]
  },
  {
   "cell_type": "markdown",
   "id": "622f7d5b",
   "metadata": {},
   "source": [
    "### 예제\n",
    "**defaultdict 자료구조를 이용하여 text 문장에 쓰인 단어의 개수를 세는 코드를 작성하려고 한다.**\n",
    "\n",
    "(단어는 공백을 기준으로 구분, don't과 같은 축약형 단어는 하나의 단어로 취급)"
   ]
  },
  {
   "cell_type": "code",
   "execution_count": 1,
   "id": "baf6202b",
   "metadata": {},
   "outputs": [
    {
     "name": "stdout",
     "output_type": "stream",
     "text": [
      "defaultdict(<class 'int'>, {'I': 7, 'have': 1, 'a': 2, 'depression,': 1, 'and': 2, 'then': 1, 'there': 1, 'was': 2, 'girl': 2, 'who': 1, 'came': 1, 'into': 1, 'my': 3, 'life.': 2, 'One': 1, 'day,': 1, 'life': 1, 'changed': 2, 'because': 2, 'that': 1, 'just': 1, 'She': 1, 'taught': 1, 'me': 1, 'how': 2, 'to': 3, 'love': 2, 'be': 1, 'an': 1, 'active': 1, 'person.': 1, 'And': 1, 'then,': 1, 'feel': 1, 'so': 2, 'happy': 1, 'when': 1, 'am': 2, 'always': 1, 'with': 2, 'her.': 1, 'her': 4, 'much.': 1, \"don't\": 1, 'want': 1, 'let': 1, 'go.': 1, 'sad': 1, 'she': 1, 'is': 1, 'favorite': 1, 'friends.': 1, 'will': 1, 'do': 1, 'anything': 1, 'make': 1, 'proud': 1})\n"
     ]
    },
    {
     "data": {
      "text/plain": [
       "2"
      ]
     },
     "execution_count": 1,
     "metadata": {},
     "output_type": "execute_result"
    }
   ],
   "source": [
    "from collections import defaultdict\n",
    "\n",
    "text = \"\"\"I have a depression, and then there was a girl who came into \n",
    "my life. One day, my life was changed because that girl just changed my \n",
    "life. She taught me how to love and how to be an active person. \n",
    "And then, I feel so happy when I am always with her. \n",
    "I love her so much. I don't want let her go. I am sad because she \n",
    "is with her favorite friends. I will do anything to make her proud\"\"\"\n",
    "\n",
    "result = defaultdict(int)\n",
    "word = text.split()\n",
    "\n",
    "for i in word:\n",
    "    result[i] += 1\n",
    "\n",
    "print(result)\n",
    "result['girl']"
   ]
  },
  {
   "cell_type": "markdown",
   "id": "5c4609df",
   "metadata": {},
   "source": [
    "마치 NLP에서 어떤 단어가 몇 번 반복되었는지를 분석하는 것과도 같네요."
   ]
  },
  {
   "cell_type": "markdown",
   "id": "2283e8c0",
   "metadata": {},
   "source": [
    "## 파이썬에서 함수를 데이터 컬렉션에 적용하는 패턴\n",
    "- map, filter, reduce\n",
    "- map 연산을 통해 여러 개의 컴퓨터에 연산을 나누고, filter를 통해 필터링을 수행하고, reduce를 통해 여러 개 컴퓨터에 분산하여 연산한 결과를 통합해 결과를 도출한다.\n",
    "- map, filter, reduce는 독립적으로 사용되기보다는 파이썬의 람다(lambda)와 함께 사용하는 것이 일반적이라고 한다."
   ]
  },
  {
   "cell_type": "markdown",
   "id": "8f8c33ce",
   "metadata": {},
   "source": [
    "### 1) map\n",
    "\n",
    "- 컬렉션의 모든 요소에 함수를 매핑한다."
   ]
  },
  {
   "cell_type": "code",
   "execution_count": 2,
   "id": "c2141fea",
   "metadata": {},
   "outputs": [
    {
     "name": "stdout",
     "output_type": "stream",
     "text": [
      "[1, 2, 3, 4]\n",
      "[1, 4, 9, 16]\n"
     ]
    }
   ],
   "source": [
    "mynum = ['1','2','3','4']\n",
    "mynum_int = list(map(int, mynum))  # 문자열로 구성된 mynum의 각 원소에 int 함수를 적용\n",
    "print(mynum_int)\n",
    "\n",
    "mynum_square = list(map(lambda x : x*x, mynum_int))  # mynum_int의 각 원소 x에 lambda x : x*x 함수를 적용 (x의 제곱)\n",
    "print(mynum_square)"
   ]
  },
  {
   "cell_type": "markdown",
   "id": "3885e194",
   "metadata": {},
   "source": [
    "### 2) filter\n",
    "\n",
    "- 컬렉션 내의 요소를 필터링한다.\n",
    "- 아래 코드는 음의 정수를 포함한 범위에 해당하는 수들 중 0과 음수를 제외한 양수만을 걸러내어 리스트로 표현하도록 하는 코드이다."
   ]
  },
  {
   "cell_type": "code",
   "execution_count": 3,
   "id": "f6979efa",
   "metadata": {},
   "outputs": [
    {
     "name": "stdout",
     "output_type": "stream",
     "text": [
      "[1, 2, 3, 4]\n"
     ]
    }
   ],
   "source": [
    "mynum = range(-5, 5)   # -5부터 4까지의 정수를 범위로 설정\n",
    "mynum_plus = list(filter(lambda x: x > 0, mynum)) # mynum의 각 원소 x에 대해 lambda x: x > 0 인지 체크하는 필터를 적용\n",
    "print(mynum_plus)"
   ]
  },
  {
   "cell_type": "markdown",
   "id": "242f7a53",
   "metadata": {},
   "source": [
    "### 3) reduce\n",
    "\n",
    "- functools 모듈의 reduce 라이브러리를 불러와 리듀싱을 수행한다.\n",
    "- reduce를 활용해 보기 적당한 예로 시그마 연산이 있다. 시그마는 일정 범위에서 일정 범위까지 수들의 합을 나타내는 기호이다."
   ]
  },
  {
   "cell_type": "code",
   "execution_count": 4,
   "id": "8c3240aa",
   "metadata": {},
   "outputs": [
    {
     "name": "stdout",
     "output_type": "stream",
     "text": [
      "15\n"
     ]
    }
   ],
   "source": [
    "from functools import reduce\n",
    "mynum = [1, 2, 3, 4, 5]\n",
    "add = reduce((lambda x, y: x + y), mynum)  # reduce는 내부에 관리하는 x 변수에 mynum의 각 원소 y를 차례차례 더하여 x에 반영한다.\n",
    "\n",
    "print(add)"
   ]
  },
  {
   "cell_type": "markdown",
   "id": "a6754d13",
   "metadata": {},
   "source": [
    "## 맵리듀스 실습\n",
    "\n",
    "- 맵리듀스는 Split → Map → Shuffle → Reduce의 4단계로 구성된다.\n",
    "- Split와 Map을 묶어 Map Task라 하고, Shuffle과 Reduce를 묶어 Reduce Task라 한다.\n",
    "- 우리는 알파벳의 빈도 수를 찾는 로직을 맵리듀스를 활용해 구현하고자 한다.\n",
    "- 사용 텍스트는 이전에 데이터 컬렉션 쪽에서 text로 입력했던 데이터를 사용한다."
   ]
  },
  {
   "cell_type": "code",
   "execution_count": 6,
   "id": "2950e6e9",
   "metadata": {},
   "outputs": [
    {
     "name": "stdout",
     "output_type": "stream",
     "text": [
      "[('I', 1), (' ', 1), ('h', 1), ('a', 1), ('v', 1), ('e', 1), (' ', 1), ('a', 1), (' ', 1), ('d', 1), ('e', 1), ('p', 1), ('r', 1), ('e', 1), ('s', 1), ('s', 1), ('i', 1), ('o', 1), ('n', 1), (',', 1), (' ', 1), ('a', 1), ('n', 1), ('d', 1), (' ', 1), ('t', 1), ('h', 1), ('e', 1), ('n', 1), (' ', 1), ('t', 1), ('h', 1), ('e', 1), ('r', 1), ('e', 1), (' ', 1), ('w', 1), ('a', 1), ('s', 1), (' ', 1), ('a', 1), (' ', 1), ('g', 1), ('i', 1), ('r', 1), ('l', 1), (' ', 1), ('w', 1), ('h', 1), ('o', 1), (' ', 1), ('c', 1), ('a', 1), ('m', 1), ('e', 1), (' ', 1), ('i', 1), ('n', 1), ('t', 1), ('o', 1), (' ', 1), ('\\n', 1), ('m', 1), ('y', 1), (' ', 1), ('l', 1), ('i', 1), ('f', 1), ('e', 1), ('.', 1), (' ', 1), ('O', 1), ('n', 1), ('e', 1), (' ', 1), ('d', 1), ('a', 1), ('y', 1), (',', 1), (' ', 1), ('m', 1), ('y', 1), (' ', 1), ('l', 1), ('i', 1), ('f', 1), ('e', 1), (' ', 1), ('w', 1), ('a', 1), ('s', 1), (' ', 1), ('c', 1), ('h', 1), ('a', 1), ('n', 1), ('g', 1), ('e', 1), ('d', 1), (' ', 1), ('b', 1), ('e', 1), ('c', 1), ('a', 1), ('u', 1), ('s', 1), ('e', 1), (' ', 1), ('t', 1), ('h', 1), ('a', 1), ('t', 1), (' ', 1), ('g', 1), ('i', 1), ('r', 1), ('l', 1), (' ', 1), ('j', 1), ('u', 1), ('s', 1), ('t', 1), (' ', 1), ('c', 1), ('h', 1), ('a', 1), ('n', 1), ('g', 1), ('e', 1), ('d', 1), (' ', 1), ('m', 1), ('y', 1), (' ', 1), ('\\n', 1), ('l', 1), ('i', 1), ('f', 1), ('e', 1), ('.', 1), (' ', 1), ('S', 1), ('h', 1), ('e', 1), (' ', 1), ('t', 1), ('a', 1), ('u', 1), ('g', 1), ('h', 1), ('t', 1), (' ', 1), ('m', 1), ('e', 1), (' ', 1), ('h', 1), ('o', 1), ('w', 1), (' ', 1), ('t', 1), ('o', 1), (' ', 1), ('l', 1), ('o', 1), ('v', 1), ('e', 1), (' ', 1), ('a', 1), ('n', 1), ('d', 1), (' ', 1), ('h', 1), ('o', 1), ('w', 1), (' ', 1), ('t', 1), ('o', 1), (' ', 1), ('b', 1), ('e', 1), (' ', 1), ('a', 1), ('n', 1), (' ', 1), ('a', 1), ('c', 1), ('t', 1), ('i', 1), ('v', 1), ('e', 1), (' ', 1), ('p', 1), ('e', 1), ('r', 1), ('s', 1), ('o', 1), ('n', 1), ('.', 1), (' ', 1), ('\\n', 1), ('A', 1), ('n', 1), ('d', 1), (' ', 1), ('t', 1), ('h', 1), ('e', 1), ('n', 1), (',', 1), (' ', 1), ('I', 1), (' ', 1), ('f', 1), ('e', 1), ('e', 1), ('l', 1), (' ', 1), ('s', 1), ('o', 1), (' ', 1), ('h', 1), ('a', 1), ('p', 1), ('p', 1), ('y', 1), (' ', 1), ('w', 1), ('h', 1), ('e', 1), ('n', 1), (' ', 1), ('I', 1), (' ', 1), ('a', 1), ('m', 1), (' ', 1), ('a', 1), ('l', 1), ('w', 1), ('a', 1), ('y', 1), ('s', 1), (' ', 1), ('w', 1), ('i', 1), ('t', 1), ('h', 1), (' ', 1), ('h', 1), ('e', 1), ('r', 1), ('.', 1), (' ', 1), ('\\n', 1), ('I', 1), (' ', 1), ('l', 1), ('o', 1), ('v', 1), ('e', 1), (' ', 1), ('h', 1), ('e', 1), ('r', 1), (' ', 1), ('s', 1), ('o', 1), (' ', 1), ('m', 1), ('u', 1), ('c', 1), ('h', 1), ('.', 1), (' ', 1), ('I', 1), (' ', 1), ('d', 1), ('o', 1), ('n', 1), (\"'\", 1), ('t', 1), (' ', 1), ('w', 1), ('a', 1), ('n', 1), ('t', 1), (' ', 1), ('l', 1), ('e', 1), ('t', 1), (' ', 1), ('h', 1), ('e', 1), ('r', 1), (' ', 1), ('g', 1), ('o', 1), ('.', 1), (' ', 1), ('I', 1), (' ', 1), ('a', 1), ('m', 1), (' ', 1), ('s', 1), ('a', 1), ('d', 1), (' ', 1), ('b', 1), ('e', 1), ('c', 1), ('a', 1), ('u', 1), ('s', 1), ('e', 1), (' ', 1), ('s', 1), ('h', 1), ('e', 1), (' ', 1), ('\\n', 1), ('i', 1), ('s', 1), (' ', 1), ('w', 1), ('i', 1), ('t', 1), ('h', 1), (' ', 1), ('h', 1), ('e', 1), ('r', 1), (' ', 1), ('f', 1), ('a', 1), ('v', 1), ('o', 1), ('r', 1), ('i', 1), ('t', 1), ('e', 1), (' ', 1), ('f', 1), ('r', 1), ('i', 1), ('e', 1), ('n', 1), ('d', 1), ('s', 1), ('.', 1), (' ', 1), ('I', 1), (' ', 1), ('w', 1), ('i', 1), ('l', 1), ('l', 1), (' ', 1), ('d', 1), ('o', 1), (' ', 1), ('a', 1), ('n', 1), ('y', 1), ('t', 1), ('h', 1), ('i', 1), ('n', 1), ('g', 1), (' ', 1), ('t', 1), ('o', 1), (' ', 1), ('m', 1), ('a', 1), ('k', 1), ('e', 1), (' ', 1), ('h', 1), ('e', 1), ('r', 1), (' ', 1), ('p', 1), ('r', 1), ('o', 1), ('u', 1), ('d', 1)]\n"
     ]
    }
   ],
   "source": [
    "# mapper : 입력된 데이터를 잘게 나누고 매핑하는 역할\n",
    "\n",
    "def mapper(text):\n",
    "    split = []\n",
    "    for i in text:\n",
    "        split.append((i, 1))\n",
    "    return split\n",
    "\n",
    "mapping = mapper(text)  # 매핑의 결과를 확인해봅시다. \n",
    "print(mapping)"
   ]
  },
  {
   "cell_type": "code",
   "execution_count": 7,
   "id": "325b7089",
   "metadata": {},
   "outputs": [
    {
     "name": "stdout",
     "output_type": "stream",
     "text": [
      "reducer 함수 구현 완료\n"
     ]
    }
   ],
   "source": [
    "# reducer : mapper에서 입력받은 값들 중 중복되는 항목은 합치는 역할\n",
    "\n",
    "def reducer(split):\n",
    "    out = {}\n",
    "    for i in split:\n",
    "        if i[0] not in out.keys():\n",
    "            out[i[0]] = 1\n",
    "        else:\n",
    "            out[i[0]] += 1\n",
    "    return out\n",
    "\n",
    "print(\"reducer 함수 구현 완료\")"
   ]
  },
  {
   "cell_type": "code",
   "execution_count": 8,
   "id": "7c7c42fd",
   "metadata": {},
   "outputs": [
    {
     "data": {
      "text/plain": [
       "{'I': 7,\n",
       " ' ': 81,\n",
       " 'h': 24,\n",
       " 'a': 27,\n",
       " 'v': 5,\n",
       " 'e': 38,\n",
       " 'd': 12,\n",
       " 'p': 5,\n",
       " 'r': 13,\n",
       " 's': 15,\n",
       " 'i': 15,\n",
       " 'o': 18,\n",
       " 'n': 18,\n",
       " ',': 3,\n",
       " 't': 20,\n",
       " 'w': 11,\n",
       " 'g': 7,\n",
       " 'l': 12,\n",
       " 'c': 7,\n",
       " 'm': 9,\n",
       " '\\n': 5,\n",
       " 'y': 7,\n",
       " 'f': 6,\n",
       " '.': 7,\n",
       " 'O': 1,\n",
       " 'b': 3,\n",
       " 'u': 6,\n",
       " 'j': 1,\n",
       " 'S': 1,\n",
       " 'A': 1,\n",
       " \"'\": 1,\n",
       " 'k': 1}"
      ]
     },
     "execution_count": 8,
     "metadata": {},
     "output_type": "execute_result"
    }
   ],
   "source": [
    "# mapper와 reducer 과정을 거친 MapReduce 결과 확인하기\n",
    "\n",
    "reducer(mapper(text))"
   ]
  }
 ],
 "metadata": {
  "kernelspec": {
   "display_name": "Python 3 (ipykernel)",
   "language": "python",
   "name": "python3"
  },
  "language_info": {
   "codemirror_mode": {
    "name": "ipython",
    "version": 3
   },
   "file_extension": ".py",
   "mimetype": "text/x-python",
   "name": "python",
   "nbconvert_exporter": "python",
   "pygments_lexer": "ipython3",
   "version": "3.9.7"
  }
 },
 "nbformat": 4,
 "nbformat_minor": 5
}
