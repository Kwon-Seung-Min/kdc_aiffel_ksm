{
 "cells": [
  {
   "cell_type": "markdown",
   "id": "a32dec67",
   "metadata": {},
   "source": [
    "# # 😻 데이터 엔지니어를 위한 파이썬 첫걸음 😻\n",
    "## 12장. 클래스를 활용한 나만의 n면체 주사위 만들기"
   ]
  },
  {
   "cell_type": "markdown",
   "id": "c634e6d6",
   "metadata": {},
   "source": [
    "### main 함수 정의하기"
   ]
  },
  {
   "cell_type": "code",
   "execution_count": 1,
   "id": "27b4f572",
   "metadata": {},
   "outputs": [],
   "source": [
    "def main():\n",
    "    n = get_inputs()\n",
    "    mydice = FunnyDice(n)\n",
    "    mydice.throw()\n",
    "    print(\"행운의 숫자는? {}\".format(mydice.getval()))"
   ]
  },
  {
   "cell_type": "markdown",
   "id": "11b434c6",
   "metadata": {},
   "source": [
    "### FunnyDice 클래스 만들기"
   ]
  },
  {
   "cell_type": "code",
   "execution_count": 2,
   "id": "ad7ca6be",
   "metadata": {},
   "outputs": [],
   "source": [
    "#- 기본 세팅\n",
    "\n",
    "class FunnyDice:\n",
    "    def __init__(self, n):\n",
    "            self.n = n\n",
    "    \n",
    "    def throw(self):\n",
    "        pass\n",
    "    \n",
    "    def getval(self):\n",
    "        pass\n",
    "\n",
    "    def setval(self, val):\n",
    "        pass"
   ]
  },
  {
   "cell_type": "code",
   "execution_count": 3,
   "id": "2b8a258d",
   "metadata": {},
   "outputs": [],
   "source": [
    "#- 생성자 구현\n",
    "\n",
    "from random import randrange\n",
    "\n",
    "class FunnyDice:\n",
    "    def __init__(self, n=6):\n",
    "        self.n = int(n)\n",
    "        self.numbers = list(range(1, n+1))\n",
    "        self.index = randrange(0, self.n)\n",
    "        self.val = self.numbers[self.index]"
   ]
  },
  {
   "cell_type": "code",
   "execution_count": 4,
   "id": "1d5c4cb3",
   "metadata": {},
   "outputs": [],
   "source": [
    "#- throw, getval 메소드를 클래스 내부에 추가\n",
    "\n",
    "from random import randrange\n",
    "\n",
    "class FunnyDice:\n",
    "    def throw(self):\n",
    "        self.index = randrange(0, self.n)\n",
    "        self.val = self.numbers[self.index]\n",
    "    \n",
    "    def getval(self):\n",
    "        return self.val"
   ]
  },
  {
   "cell_type": "markdown",
   "id": "2c4bc1e9",
   "metadata": {},
   "source": [
    "**위의 코드에서,**\n",
    "\n",
    "- throw 메소드는 랜덤으로 주사위의 눈이 나오도록 하는 역할을 한다.\n",
    "- getval 메소드를 호출하면 주사위 눈 변수 val을 반환받아 해당 값을 얻을 수 있다. (주어진 눈의 범위 내로 제한)"
   ]
  },
  {
   "cell_type": "code",
   "execution_count": 5,
   "id": "934d9599",
   "metadata": {},
   "outputs": [],
   "source": [
    "#- setval 메소드를 클래스 내부에 추가\n",
    "\n",
    "from random import randrange\n",
    "\n",
    "class FunnyDice:    \n",
    "    def setval(self, val:int):\n",
    "        if val <= self.n:\n",
    "            self.val = val\n",
    "        else:\n",
    "            msg = \"주사위에 없는 숫자입니다. 주사위는 1 ~ {0}까지 있습니다. \".format(self.n)\n",
    "            raise ValueError(msg)"
   ]
  },
  {
   "cell_type": "markdown",
   "id": "aaa3a824",
   "metadata": {},
   "source": [
    "여기서, 우리는 n면체 주사위를 만들려고 하기 때문에 1부터 n까지의 결과가 나와야 한다.\n",
    "\n",
    "**만일 n을 넘어가는 값을 받는다면 else문의 결과가 출력된다.**\n",
    "\n",
    "한편, setval 메소드는 사용자가 주어진 1~n 범위 내에서 주사위 눈을 세팅할 수 있도록 하는 메소드이다.\n",
    "\n",
    "만약 해당 범위를 벗어나는 숫자를 세팅하게 되면 오류가 발생하는 구문을 추가해 주었다.\n",
    "\n",
    "위 내용을 모두 아우르는 FunnyDice의 전체 코드를 아래와 같이 정리해볼 수 있을 것이다."
   ]
  },
  {
   "cell_type": "code",
   "execution_count": 6,
   "id": "f68a0f3b",
   "metadata": {},
   "outputs": [],
   "source": [
    "#- 인자를 따로 적지 않을 시, 디폴트 값인 n=6이 적용된다.\n",
    "\n",
    "class FunnyDice:\n",
    "    def __init__(self, n=6):\n",
    "        self.n = int(n)\n",
    "        self.numbers = list(range(1, n+1))\n",
    "        self.index = randrange(0, self.n)\n",
    "        self.val = self.numbers[self.index]\n",
    "\n",
    "    def throw(self):\n",
    "        self.index = randrange(0, self.n)\n",
    "        self.val = self.numbers[self.index]\n",
    "\n",
    "    def getval(self):\n",
    "        return self.val\n",
    "\n",
    "    def setval(self, val):\n",
    "        if val <= self.n:\n",
    "            self.val = val\n",
    "        else:\n",
    "            msg = \"주사위에 없는 숫자입니다. 주사위는 1 ~ {0}까지 있습니다. \".format(self.n)\n",
    "            raise ValueError(msg)"
   ]
  },
  {
   "cell_type": "markdown",
   "id": "66451f28",
   "metadata": {},
   "source": [
    "### FunnyDice 클래스를 인스턴스 객체로 만들고 throw(), getval(), setval() 메소드를 각각 동작시키기"
   ]
  },
  {
   "cell_type": "code",
   "execution_count": 7,
   "id": "6804c741",
   "metadata": {},
   "outputs": [
    {
     "name": "stdout",
     "output_type": "stream",
     "text": [
      "6\n"
     ]
    },
    {
     "ename": "ValueError",
     "evalue": "주사위에 없는 숫자입니다. 주사위는 1 ~ 6까지 있습니다. ",
     "output_type": "error",
     "traceback": [
      "\u001b[0;31m---------------------------------------------------------------------------\u001b[0m",
      "\u001b[0;31mValueError\u001b[0m                                Traceback (most recent call last)",
      "\u001b[0;32m/tmp/ipykernel_79/2022745912.py\u001b[0m in \u001b[0;36m<module>\u001b[0;34m\u001b[0m\n\u001b[1;32m      4\u001b[0m \u001b[0mlucknum\u001b[0m\u001b[0;34m.\u001b[0m\u001b[0mthrow\u001b[0m\u001b[0;34m(\u001b[0m\u001b[0;34m)\u001b[0m\u001b[0;34m\u001b[0m\u001b[0;34m\u001b[0m\u001b[0m\n\u001b[1;32m      5\u001b[0m \u001b[0mprint\u001b[0m\u001b[0;34m(\u001b[0m\u001b[0mlucknum\u001b[0m\u001b[0;34m.\u001b[0m\u001b[0mgetval\u001b[0m\u001b[0;34m(\u001b[0m\u001b[0;34m)\u001b[0m\u001b[0;34m)\u001b[0m\u001b[0;34m\u001b[0m\u001b[0;34m\u001b[0m\u001b[0m\n\u001b[0;32m----> 6\u001b[0;31m \u001b[0mlucknum\u001b[0m\u001b[0;34m.\u001b[0m\u001b[0msetval\u001b[0m\u001b[0;34m(\u001b[0m\u001b[0;36m7\u001b[0m\u001b[0;34m)\u001b[0m\u001b[0;34m\u001b[0m\u001b[0;34m\u001b[0m\u001b[0m\n\u001b[0m",
      "\u001b[0;32m/tmp/ipykernel_79/2750591464.py\u001b[0m in \u001b[0;36msetval\u001b[0;34m(self, val)\u001b[0m\n\u001b[1;32m     20\u001b[0m         \u001b[0;32melse\u001b[0m\u001b[0;34m:\u001b[0m\u001b[0;34m\u001b[0m\u001b[0;34m\u001b[0m\u001b[0m\n\u001b[1;32m     21\u001b[0m             \u001b[0mmsg\u001b[0m \u001b[0;34m=\u001b[0m \u001b[0;34m\"주사위에 없는 숫자입니다. 주사위는 1 ~ {0}까지 있습니다. \"\u001b[0m\u001b[0;34m.\u001b[0m\u001b[0mformat\u001b[0m\u001b[0;34m(\u001b[0m\u001b[0mself\u001b[0m\u001b[0;34m.\u001b[0m\u001b[0mn\u001b[0m\u001b[0;34m)\u001b[0m\u001b[0;34m\u001b[0m\u001b[0;34m\u001b[0m\u001b[0m\n\u001b[0;32m---> 22\u001b[0;31m             \u001b[0;32mraise\u001b[0m \u001b[0mValueError\u001b[0m\u001b[0;34m(\u001b[0m\u001b[0mmsg\u001b[0m\u001b[0;34m)\u001b[0m\u001b[0;34m\u001b[0m\u001b[0;34m\u001b[0m\u001b[0m\n\u001b[0m",
      "\u001b[0;31mValueError\u001b[0m: 주사위에 없는 숫자입니다. 주사위는 1 ~ 6까지 있습니다. "
     ]
    }
   ],
   "source": [
    "#- 첫 번째 오류 사례 (FunnyDice(self)에 self를 대신할 인자가 없음 → 디폴트 값인 6으로 동작)\n",
    "\n",
    "lucknum = FunnyDice()\n",
    "lucknum.throw()\n",
    "print(lucknum.getval())\n",
    "lucknum.setval(7)"
   ]
  },
  {
   "cell_type": "markdown",
   "id": "d185cc12",
   "metadata": {},
   "source": [
    "setval 메소드에 7이 인자로 들어가 있다.\n",
    "\n",
    "하지만 FunnyDice() 처럼 받은 인자가 없는 경우, 기본 디폴트 n의 값인 6으로 설정된 상태여서 7은 주사위의 범위를 넘어가 오류가 된다."
   ]
  },
  {
   "cell_type": "code",
   "execution_count": 8,
   "id": "4abac6eb",
   "metadata": {},
   "outputs": [
    {
     "name": "stdout",
     "output_type": "stream",
     "text": [
      "6\n"
     ]
    },
    {
     "ename": "TypeError",
     "evalue": "setval() missing 1 required positional argument: 'val'",
     "output_type": "error",
     "traceback": [
      "\u001b[0;31m---------------------------------------------------------------------------\u001b[0m",
      "\u001b[0;31mTypeError\u001b[0m                                 Traceback (most recent call last)",
      "\u001b[0;32m/tmp/ipykernel_79/410149782.py\u001b[0m in \u001b[0;36m<module>\u001b[0;34m\u001b[0m\n\u001b[1;32m      4\u001b[0m \u001b[0mlucknum\u001b[0m\u001b[0;34m.\u001b[0m\u001b[0mthrow\u001b[0m\u001b[0;34m(\u001b[0m\u001b[0;34m)\u001b[0m\u001b[0;34m\u001b[0m\u001b[0;34m\u001b[0m\u001b[0m\n\u001b[1;32m      5\u001b[0m \u001b[0mprint\u001b[0m\u001b[0;34m(\u001b[0m\u001b[0mlucknum\u001b[0m\u001b[0;34m.\u001b[0m\u001b[0mgetval\u001b[0m\u001b[0;34m(\u001b[0m\u001b[0;34m)\u001b[0m\u001b[0;34m)\u001b[0m\u001b[0;34m\u001b[0m\u001b[0;34m\u001b[0m\u001b[0m\n\u001b[0;32m----> 6\u001b[0;31m \u001b[0mlucknum\u001b[0m\u001b[0;34m.\u001b[0m\u001b[0msetval\u001b[0m\u001b[0;34m(\u001b[0m\u001b[0;34m)\u001b[0m\u001b[0;34m\u001b[0m\u001b[0;34m\u001b[0m\u001b[0m\n\u001b[0m",
      "\u001b[0;31mTypeError\u001b[0m: setval() missing 1 required positional argument: 'val'"
     ]
    }
   ],
   "source": [
    "#- 두 번째 오류 사례 (setval(self)에 self에 해당하는 인자를 명시하지 않은 경우)\n",
    "\n",
    "lucknum = FunnyDice()\n",
    "lucknum.throw()\n",
    "print(lucknum.getval())\n",
    "lucknum.setval()"
   ]
  },
  {
   "cell_type": "markdown",
   "id": "51269c57",
   "metadata": {},
   "source": [
    "setval(self)에서 self에 해당하는 인자를 명시하지 않아서 생긴 결과이다.\n",
    "\n",
    "setval의 경우 따로 디폴트 값이 정확히 명시되어 있지 않았기 때문에, 값을 입력하지 않으면 오류가 발생하게 된다.\n",
    "\n",
    "따라서 위의 코드도 오류로 동작되었다."
   ]
  },
  {
   "cell_type": "code",
   "execution_count": 9,
   "id": "7b48c28d",
   "metadata": {},
   "outputs": [
    {
     "name": "stdout",
     "output_type": "stream",
     "text": [
      "8\n"
     ]
    }
   ],
   "source": [
    "#- 정상 사례 (FunnyDice의 최대 눈의 값을 디폴트 값이 아닌 다른 값으로 설정한 경우)\n",
    "\n",
    "lucknum = FunnyDice(12)\n",
    "lucknum.throw()\n",
    "print(lucknum.getval())\n",
    "lucknum.setval(6)"
   ]
  },
  {
   "cell_type": "markdown",
   "id": "5bc8b7a8",
   "metadata": {},
   "source": [
    "다만, 위의 세 번째 사례는 정상 동작한다.\n",
    "\n",
    "FunnyDice의 주사위 눈의 최댓값을 12로 설정하였으므로, setval의 값은 그 이하로 설정하면 문제가 없다.\n",
    "\n",
    "따라서, 해당 코드는 정상 코드이다.\n",
    "\n",
    "참고로 getval()은 FunnyDice(12) 상황에서는 1~12까지 랜덤한 눈의 값을 출력하게 해준다."
   ]
  },
  {
   "cell_type": "markdown",
   "id": "008e8c6b",
   "metadata": {},
   "source": [
    "### get_inputs()"
   ]
  },
  {
   "cell_type": "markdown",
   "id": "4f01c463",
   "metadata": {},
   "source": [
    "main() 함수를 설계하는 과정에서 get_inputs()에서 사용자로부터 n면체 숫자 n의 값을 받게 하고자 한다.\n",
    "\n",
    "값을 받고자 할 때는 파이썬 내장 함수인 input 함수를 활용한다."
   ]
  },
  {
   "cell_type": "code",
   "execution_count": 10,
   "id": "b0a9bf84",
   "metadata": {},
   "outputs": [],
   "source": [
    "def get_inputs():\n",
    "    n = int(input(\"주사위 면의 개수를 입력하세요: \"))\n",
    "    return n"
   ]
  },
  {
   "cell_type": "markdown",
   "id": "a17ba22f",
   "metadata": {},
   "source": [
    "### 완성 코드 (input 함수까지 모두 정의된 코드)"
   ]
  },
  {
   "cell_type": "markdown",
   "id": "2b4750a8",
   "metadata": {},
   "source": [
    "get_inputs() 함수를 클래스 내부에 넣는 경우 사용자로부터 값을 받을 수 없다.\n",
    "\n",
    "따라서 클래스 밖에 따로 정의하여 주어야 하는 점에 유의하자.\n",
    "\n",
    "main() 함수 또한 FunnyDice 클래스를 활용하므로, 클래스 밖에서 정의해야 한다."
   ]
  },
  {
   "cell_type": "code",
   "execution_count": 11,
   "id": "fe654b18",
   "metadata": {},
   "outputs": [
    {
     "name": "stdout",
     "output_type": "stream",
     "text": [
      "주사위 면의 개수를 입력하세요: 50\n",
      "행운의 숫자는? 16\n"
     ]
    }
   ],
   "source": [
    "#- 최종 코드\n",
    "\n",
    "from random import randrange\n",
    "\n",
    "class FunnyDice:\n",
    "    def __init__(self, n=6):\n",
    "        self.n = n\n",
    "        self.options = list(range(1, n+1))\n",
    "        self.index = randrange(0, self.n)\n",
    "        self.val = self.options[self.index]\n",
    "    \n",
    "    def throw(self):\n",
    "        self.index = randrange(0, self.n)\n",
    "        self.val = self.options[self.index]\n",
    "    \n",
    "    def getval(self):\n",
    "        return self.val\n",
    "    \n",
    "    def setval(self, val):\n",
    "        if val <= self.n:\n",
    "            self.val = val\n",
    "        else:\n",
    "            msg = \"주사위에 없는 숫자입니다. 주사위는 1 ~ {0}까지 있습니다. \".format(self.n)\n",
    "            raise ValueError(msg)\n",
    "\n",
    "def get_inputs():\n",
    "    n = int(input(\"주사위 면의 개수를 입력하세요: \"))\n",
    "    return n\n",
    "\n",
    "def main():\n",
    "    n = get_inputs()\n",
    "    mydice = FunnyDice(n)\n",
    "    mydice.throw()\n",
    "    print(\"행운의 숫자는? {0}\".format(mydice.getval()))\n",
    "\n",
    "if __name__ == '__main__':\n",
    "    main()"
   ]
  },
  {
   "cell_type": "markdown",
   "id": "23ad3f30",
   "metadata": {},
   "source": [
    "**이것을 잘 변형하고 재구성하면, 추첨 프로그램을 만드는 것도 흥미있지 않을까?**\n",
    "\n",
    "Ex. 유명 연예인의 팬사인회에 당첨된 n명 중, 함께 연예인과 사진을 찍을 x명을 뽑는 프로그램"
   ]
  }
 ],
 "metadata": {
  "kernelspec": {
   "display_name": "Python 3 (ipykernel)",
   "language": "python",
   "name": "python3"
  },
  "language_info": {
   "codemirror_mode": {
    "name": "ipython",
    "version": 3
   },
   "file_extension": ".py",
   "mimetype": "text/x-python",
   "name": "python",
   "nbconvert_exporter": "python",
   "pygments_lexer": "ipython3",
   "version": "3.9.7"
  }
 },
 "nbformat": 4,
 "nbformat_minor": 5
}
